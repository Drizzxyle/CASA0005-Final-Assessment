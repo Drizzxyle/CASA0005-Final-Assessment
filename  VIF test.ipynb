{
 "cells": [
  {
   "cell_type": "code",
   "execution_count": 16,
   "metadata": {},
   "outputs": [
    {
     "data": {
      "text/html": [
       "<div>\n",
       "<style scoped>\n",
       "    .dataframe tbody tr th:only-of-type {\n",
       "        vertical-align: middle;\n",
       "    }\n",
       "\n",
       "    .dataframe tbody tr th {\n",
       "        vertical-align: top;\n",
       "    }\n",
       "\n",
       "    .dataframe thead th {\n",
       "        text-align: right;\n",
       "    }\n",
       "</style>\n",
       "<table border=\"1\" class=\"dataframe\">\n",
       "  <thead>\n",
       "    <tr style=\"text-align: right;\">\n",
       "      <th></th>\n",
       "      <th>VIF Factor</th>\n",
       "      <th>features</th>\n",
       "    </tr>\n",
       "  </thead>\n",
       "  <tbody>\n",
       "    <tr>\n",
       "      <th>0</th>\n",
       "      <td>1882.830078</td>\n",
       "      <td>Intercept</td>\n",
       "    </tr>\n",
       "    <tr>\n",
       "      <th>1</th>\n",
       "      <td>1.294049</td>\n",
       "      <td>x1</td>\n",
       "    </tr>\n",
       "    <tr>\n",
       "      <th>2</th>\n",
       "      <td>4.745144</td>\n",
       "      <td>x2</td>\n",
       "    </tr>\n",
       "    <tr>\n",
       "      <th>3</th>\n",
       "      <td>4.253303</td>\n",
       "      <td>x3</td>\n",
       "    </tr>\n",
       "  </tbody>\n",
       "</table>\n",
       "</div>"
      ],
      "text/plain": [
       "    VIF Factor   features\n",
       "0  1882.830078  Intercept\n",
       "1     1.294049         x1\n",
       "2     4.745144         x2\n",
       "3     4.253303         x3"
      ]
     },
     "execution_count": 16,
     "metadata": {},
     "output_type": "execute_result"
    }
   ],
   "source": [
    "import pandas as pd\n",
    "import numpy as np\n",
    "from patsy import dmatrices\n",
    "from statsmodels.stats.outliers_influence import variance_inflation_factor\n",
    "import statsmodels.api as sm\n",
    "import scipy.stats as stats\n",
    "from sklearn.metrics import mean_squared_error\n",
    "import seaborn as sns\n",
    "import matplotlib.pyplot as plt\n",
    "import matplotlib.mlab as mlab\n",
    "\n",
    "# 数据读取\n",
    "df = pd.read_csv(\"HWD.csv\")\n",
    "y=df['MRR']\n",
    "x1=df['>65']\n",
    "x2=df['WHI']\n",
    "x3=df['BHC']\n",
    "x4=df['UemR']\n",
    "\n",
    "\n",
    "\n",
    "# 将因变量PE，自变量AT,V,AP和截距项（值为1的1维数组）以数据框的形式组合起来\n",
    "y, X = dmatrices(\"y ~ x1 + x2 + x3\", df, return_type='dataframe')\n",
    "\n",
    "# 构造空的数据框\n",
    "vif = pd.DataFrame()\n",
    "vif[\"VIF Factor\"] = [variance_inflation_factor(X.values, i) for i in range(X.shape[1])]\n",
    "vif[\"features\"] = X.columns\n",
    "vif"
   ]
  },
  {
   "cell_type": "code",
   "execution_count": 19,
   "metadata": {},
   "outputs": [
    {
     "name": "stdout",
     "output_type": "stream",
     "text": [
      "                            OLS Regression Results                            \n",
      "==============================================================================\n",
      "Dep. Variable:                    MRR   R-squared:                       0.639\n",
      "Model:                            OLS   Adj. R-squared:                  0.588\n",
      "Method:                 Least Squares   F-statistic:                     12.42\n",
      "Date:                Tue, 19 Jan 2021   Prob (F-statistic):            0.00968\n",
      "Time:                        23:37:28   Log-Likelihood:                 13.607\n",
      "No. Observations:                   9   AIC:                            -23.21\n",
      "Df Residuals:                       7   BIC:                            -22.82\n",
      "Df Model:                           1                                         \n",
      "Covariance Type:            nonrobust                                         \n",
      "==============================================================================\n",
      "                 coef    std err          t      P>|t|      [0.025      0.975]\n",
      "------------------------------------------------------------------------------\n",
      "const          0.5740      0.118      4.854      0.002       0.294       0.854\n",
      "BHC           -7.2597      2.060     -3.524      0.010     -12.132      -2.388\n",
      "==============================================================================\n",
      "Omnibus:                        0.828   Durbin-Watson:                   2.545\n",
      "Prob(Omnibus):                  0.661   Jarque-Bera (JB):                0.670\n",
      "Skew:                           0.514   Prob(JB):                        0.715\n",
      "Kurtosis:                       2.146   Cond. No.                         102.\n",
      "==============================================================================\n",
      "\n",
      "Notes:\n",
      "[1] Standard Errors assume that the covariance matrix of the errors is correctly specified.\n",
      "Parameters:  const    0.573963\n",
      "BHC     -7.259665\n",
      "dtype: float64\n",
      "R2:  0.6394632923588265\n"
     ]
    },
    {
     "name": "stderr",
     "output_type": "stream",
     "text": [
      "/opt/anaconda3/lib/python3.8/site-packages/scipy/stats/stats.py:1603: UserWarning: kurtosistest only valid for n>=20 ... continuing anyway, n=9\n",
      "  warnings.warn(\"kurtosistest only valid for n>=20 ... continuing \"\n"
     ]
    }
   ],
   "source": [
    "import numpy as np\n",
    "import statsmodels.api as sm\n",
    "import pandas as pd\n",
    "import statsmodels.api as sm\n",
    "import matplotlib.pyplot as plt\n",
    " \n",
    "df = pd.read_csv(\"HW11.csv\")\n",
    "y=df['MRR']\n",
    "x=df['BHC']\n",
    "\n",
    "\n",
    "x_n = sm.add_constant(x) #statsmodels进行回归时，一定要添加此常数项\n",
    "model = sm.OLS(y, x_n) #model是回归分析模型\n",
    "results = model.fit()\n",
    "\n",
    "print(results.summary())\n",
    "print('Parameters: ', results.params)\n",
    "print('R2: ', results.rsquared)"
   ]
  },
  {
   "cell_type": "code",
   "execution_count": null,
   "metadata": {},
   "outputs": [],
   "source": []
  }
 ],
 "metadata": {
  "kernelspec": {
   "display_name": "Python 3",
   "language": "python",
   "name": "python3"
  },
  "language_info": {
   "codemirror_mode": {
    "name": "ipython",
    "version": 3
   },
   "file_extension": ".py",
   "mimetype": "text/x-python",
   "name": "python",
   "nbconvert_exporter": "python",
   "pygments_lexer": "ipython3",
   "version": "3.8.5"
  }
 },
 "nbformat": 4,
 "nbformat_minor": 4
}
